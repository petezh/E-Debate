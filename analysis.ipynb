{
 "cells": [
  {
   "cell_type": "markdown",
   "metadata": {},
   "source": [
    "Entries Analysis\n",
    "---\n",
    "\n",
    "Author: Peter Zhang\n",
    "\n",
    "Analysis of tournament entries."
   ]
  },
  {
   "cell_type": "markdown",
   "metadata": {},
   "source": [
    "### Setup\n",
    "\n",
    "#### Imports"
   ]
  },
  {
   "cell_type": "code",
   "execution_count": 64,
   "metadata": {},
   "outputs": [],
   "source": [
    "# imports\n",
    "import csv\n",
    "import mpu\n",
    "import numpy as np\n",
    "from matplotlib import pyplot as plt"
   ]
  },
  {
   "cell_type": "markdown",
   "metadata": {},
   "source": [
    "#### Input Data"
   ]
  },
  {
   "cell_type": "code",
   "execution_count": 65,
   "metadata": {},
   "outputs": [],
   "source": [
    "# location of the combined, entries dataset\n",
    "ENTRIES_CSV = 'datasets/entries.csv'"
   ]
  },
  {
   "cell_type": "code",
   "execution_count": 66,
   "metadata": {},
   "outputs": [],
   "source": [
    "# read entries\n",
    "with open(ENTRIES_CSV) as inFile:\n",
    "    inReader = csv.DictReader(inFile)\n",
    "    entries = [row for row in inReader]\n",
    "    for entry in entries:\n",
    "        entry['State'] = entry['State'].split(\"/\")[0]"
   ]
  },
  {
   "cell_type": "code",
   "execution_count": 67,
   "metadata": {},
   "outputs": [],
   "source": [
    "# location of the tournamnet info dataset\n",
    "INFO_CSV = 'datasets/tournInfo.csv'"
   ]
  },
  {
   "cell_type": "code",
   "execution_count": 68,
   "metadata": {},
   "outputs": [],
   "source": [
    "# read tournament info\n",
    "tournInfo = {}\n",
    "with open(INFO_CSV) as inFile:\n",
    "    inReader = csv.DictReader(inFile)\n",
    "    for row in inReader:\n",
    "        tournInfo[row[\"Tourn Name\"]] = row\n",
    "    for tourn in tournInfo:\n",
    "        tournInfo[tourn]['State'] = tournInfo[tourn]['State'].split(\"/\")[0]"
   ]
  },
  {
   "cell_type": "code",
   "execution_count": 69,
   "metadata": {},
   "outputs": [],
   "source": [
    "# location of the state coordinates dataset\n",
    "LOCATION_CSV = 'datasets/locations.csv'"
   ]
  },
  {
   "cell_type": "code",
   "execution_count": 70,
   "metadata": {},
   "outputs": [],
   "source": [
    "# read locations as map\n",
    "coordinates = {}\n",
    "with open(LOCATION_CSV) as inFile:\n",
    "    inReader = csv.DictReader(inFile)\n",
    "    for row in inReader:\n",
    "        state = row['State']\n",
    "        lat = float(row['Lattitude'])\n",
    "        long = float(row['Longitude'])\n",
    "        coordinates[state] = (lat, long)"
   ]
  },
  {
   "cell_type": "code",
   "execution_count": 71,
   "metadata": {},
   "outputs": [],
   "source": [
    "# list of valid states\n",
    "states = coordinates.keys()"
   ]
  },
  {
   "cell_type": "code",
   "execution_count": 72,
   "metadata": {},
   "outputs": [],
   "source": [
    "# location of state abbreviations dataset\n",
    "ABBREV_CSV = 'datasets/abbrev.csv'"
   ]
  },
  {
   "cell_type": "code",
   "execution_count": 73,
   "metadata": {},
   "outputs": [],
   "source": [
    "# read abbreviations into map\n",
    "abbrevOf = {}\n",
    "with open(ABBREV_CSV) as inFile:\n",
    "    inReader = csv.DictReader(inFile)\n",
    "    for row in inReader:\n",
    "        abbrevOf[row['Name']] = row['Abbrev']"
   ]
  },
  {
   "cell_type": "code",
   "execution_count": 74,
   "metadata": {},
   "outputs": [],
   "source": [
    "# state ACT scores dataset\n",
    "ACT_CSV = 'datasets/actscores.csv'"
   ]
  },
  {
   "cell_type": "code",
   "execution_count": 75,
   "metadata": {},
   "outputs": [],
   "source": [
    "# read ACT scores as map\n",
    "acts = {}\n",
    "with open(ACT_CSV) as inFile:\n",
    "    inReader = csv.DictReader(inFile)\n",
    "    for row in inReader:\n",
    "        state = row['State']\n",
    "        if state in abbrevOf:\n",
    "            acts[abbrevOf[state]] = float(row['Score'])"
   ]
  },
  {
   "cell_type": "code",
   "execution_count": 76,
   "metadata": {},
   "outputs": [],
   "source": [
    "# real household income dataset\n",
    "INCOME_CSV = 'datasets/income.csv'"
   ]
  },
  {
   "cell_type": "code",
   "execution_count": 77,
   "metadata": {},
   "outputs": [],
   "source": [
    "# read income dataset as map\n",
    "incomes = {}\n",
    "with open(INCOME_CSV) as inFile:\n",
    "    inReader = csv.DictReader(inFile)\n",
    "    for row in inReader:\n",
    "        state = row['State']\n",
    "        if state in abbrevOf:\n",
    "            income = row['Income'].replace(',', '')\n",
    "            incomes[abbrevOf[state]] = int(income)"
   ]
  },
  {
   "cell_type": "code",
   "execution_count": 78,
   "metadata": {},
   "outputs": [],
   "source": [
    "# result locations\n",
    "TOURN_CSV = 'results/tournResults.csv'\n",
    "STATES_CSV = 'results/stateResults.csv'\n",
    "DATASETS_PATH = 'datasets/'"
   ]
  },
  {
   "cell_type": "markdown",
   "metadata": {},
   "source": [
    "### Analysis\n",
    "\n",
    "#### Helper Functions"
   ]
  },
  {
   "cell_type": "code",
   "execution_count": 79,
   "metadata": {},
   "outputs": [],
   "source": [
    "# calculate average ACT score\n",
    "def avgACT(entries):\n",
    "    scores = [acts[entry['State']] for entry in entries if entry['State'] in states]\n",
    "    return sum(scores)/len(scores)"
   ]
  },
  {
   "cell_type": "code",
   "execution_count": 80,
   "metadata": {},
   "outputs": [],
   "source": [
    "# calculate average income\n",
    "def avgIncome(entries):\n",
    "    households = [incomes[entry['State']] for entry in entries if entry['State'] in states]\n",
    "    return sum(households)/len(households)"
   ]
  },
  {
   "cell_type": "code",
   "execution_count": 81,
   "metadata": {},
   "outputs": [],
   "source": [
    "# compute distance between two sets of coords\n",
    "def distance(coords1, coords2):\n",
    "    return mpu.haversine_distance(coords1, coords2)"
   ]
  },
  {
   "cell_type": "code",
   "execution_count": 82,
   "metadata": {},
   "outputs": [],
   "source": [
    "# compute average distance of entries from host state\n",
    "def avgDist(entries, host):\n",
    "    hostCoords = coordinates[host]\n",
    "    totalDist = 0\n",
    "    for entry in entries:\n",
    "        state = entry[\"State\"]\n",
    "        if state in states:\n",
    "            coords = coordinates[state]\n",
    "            totalDist += distance(hostCoords, coords)\n",
    "    return totalDist/len(entries)"
   ]
  },
  {
   "cell_type": "code",
   "execution_count": 83,
   "metadata": {},
   "outputs": [],
   "source": [
    "# collect tournament information\n",
    "def getTournData(entries19, entries20, host):\n",
    "    # count entries\n",
    "    numEntries19 = len(entries19)\n",
    "    numEntries20 = len(entries20)\n",
    "    # get states\n",
    "    states19 = set([entry[\"State\"] for entry in entries19])\n",
    "    states20 = set([entry[\"State\"] for entry in entries20])\n",
    "    # remove empty/unformatted states\n",
    "    states19 = [state for state in states19 if state in states]\n",
    "    states20 = [state for state in states20 if state in states]\n",
    "    # find num of orig\n",
    "    original = len([entry for entry in entries20 if entry[\"State\"] in states19])\n",
    "    # compute average distance, ACT, and income\n",
    "    avgDist19 = avgDist(entries19, host)\n",
    "    avgDist20 = avgDist(entries20, host)\n",
    "    avgACT19 = avgACT(entries19)\n",
    "    avgACT20 = avgACT(entries20)\n",
    "    avgIncome19 = avgIncome(entries19)\n",
    "    avgIncome20 = avgIncome(entries20)\n",
    "    return [numEntries19,\n",
    "            numEntries20,\n",
    "           len(states19),\n",
    "           len(states20),\n",
    "           original, \n",
    "           avgDist19,\n",
    "           avgDist20,\n",
    "            avgACT19,\n",
    "            avgACT20,\n",
    "            avgIncome19,\n",
    "            avgIncome20]"
   ]
  },
  {
   "cell_type": "markdown",
   "metadata": {},
   "source": [
    "#### Example"
   ]
  },
  {
   "cell_type": "code",
   "execution_count": 84,
   "metadata": {},
   "outputs": [],
   "source": [
    "# get dowling entries\n",
    "dowling19 = [entry for entry in entries if entry[\"Tournament\"] == \"dowling19\"]\n",
    "dowling20 = [entry for entry in entries if entry[\"Tournament\"] == \"dowling20\"]"
   ]
  },
  {
   "cell_type": "code",
   "execution_count": 85,
   "metadata": {},
   "outputs": [
    {
     "data": {
      "text/plain": [
       "264"
      ]
     },
     "execution_count": 85,
     "metadata": {},
     "output_type": "execute_result"
    }
   ],
   "source": [
    "# entries in 2019\n",
    "len(dowling19)"
   ]
  },
  {
   "cell_type": "code",
   "execution_count": 86,
   "metadata": {},
   "outputs": [
    {
     "data": {
      "text/plain": [
       "292"
      ]
     },
     "execution_count": 86,
     "metadata": {},
     "output_type": "execute_result"
    }
   ],
   "source": [
    "# entries in 2020\n",
    "len(dowling20)"
   ]
  },
  {
   "cell_type": "code",
   "execution_count": 87,
   "metadata": {},
   "outputs": [
    {
     "data": {
      "text/plain": [
       "15"
      ]
     },
     "execution_count": 87,
     "metadata": {},
     "output_type": "execute_result"
    }
   ],
   "source": [
    "# states in 2019\n",
    "len(set([entry[\"State\"] for entry in dowling19]))"
   ]
  },
  {
   "cell_type": "code",
   "execution_count": 88,
   "metadata": {
    "scrolled": true
   },
   "outputs": [
    {
     "data": {
      "text/plain": [
       "29"
      ]
     },
     "execution_count": 88,
     "metadata": {},
     "output_type": "execute_result"
    }
   ],
   "source": [
    "# states in 2020\n",
    "len(set([entry[\"State\"] for entry in dowling20]))"
   ]
  },
  {
   "cell_type": "code",
   "execution_count": 89,
   "metadata": {},
   "outputs": [
    {
     "data": {
      "text/plain": [
       "776.879745918915"
      ]
     },
     "execution_count": 89,
     "metadata": {},
     "output_type": "execute_result"
    }
   ],
   "source": [
    "# average distance\n",
    "avgDist(dowling20, \"IA\")"
   ]
  },
  {
   "cell_type": "code",
   "execution_count": 90,
   "metadata": {},
   "outputs": [
    {
     "data": {
      "text/plain": [
       "[264,\n",
       " 292,\n",
       " 15,\n",
       " 28,\n",
       " 232,\n",
       " 418.315860380403,\n",
       " 776.879745918915,\n",
       " 21.853409090909167,\n",
       " 22.263573883161577,\n",
       " 70815.46212121213,\n",
       " 72983.35738831614]"
      ]
     },
     "execution_count": 90,
     "metadata": {},
     "output_type": "execute_result"
    }
   ],
   "source": [
    "# tourn data\n",
    "getTournData(dowling19, dowling20, \"IA\")"
   ]
  },
  {
   "cell_type": "markdown",
   "metadata": {},
   "source": [
    "#### EDA"
   ]
  },
  {
   "cell_type": "code",
   "execution_count": 91,
   "metadata": {},
   "outputs": [],
   "source": [
    "# get 2019 and 2020 entries\n",
    "entries19 = [e for e in entries if e['Tournament'][-2:] == '19']\n",
    "entries20 = [e for e in entries if e['Tournament'][-2:] == '20']"
   ]
  },
  {
   "cell_type": "code",
   "execution_count": 92,
   "metadata": {},
   "outputs": [
    {
     "data": {
      "text/plain": [
       "5057"
      ]
     },
     "execution_count": 92,
     "metadata": {},
     "output_type": "execute_result"
    }
   ],
   "source": [
    "# distinct 2019 debaters\n",
    "len(set([e['Name'] for e in entries19]))"
   ]
  },
  {
   "cell_type": "code",
   "execution_count": 93,
   "metadata": {},
   "outputs": [
    {
     "data": {
      "text/plain": [
       "5616"
      ]
     },
     "execution_count": 93,
     "metadata": {},
     "output_type": "execute_result"
    }
   ],
   "source": [
    "# distinct 2020 debaters\n",
    "len(set([e['Name'] for e in entries20]))"
   ]
  },
  {
   "cell_type": "code",
   "execution_count": 94,
   "metadata": {},
   "outputs": [
    {
     "data": {
      "text/plain": [
       "1.4987146529562982"
      ]
     },
     "execution_count": 94,
     "metadata": {},
     "output_type": "execute_result"
    }
   ],
   "source": [
    "# entries per debater 2019\n",
    "len(entries19)/5057"
   ]
  },
  {
   "cell_type": "code",
   "execution_count": 95,
   "metadata": {},
   "outputs": [
    {
     "data": {
      "text/plain": [
       "1.7670364500792393"
      ]
     },
     "execution_count": 95,
     "metadata": {},
     "output_type": "execute_result"
    }
   ],
   "source": [
    "# entries per debater 2020\n",
    "len(entries20)/5679"
   ]
  },
  {
   "cell_type": "code",
   "execution_count": 96,
   "metadata": {},
   "outputs": [
    {
     "data": {
      "text/plain": [
       "1.3240533051853807"
      ]
     },
     "execution_count": 96,
     "metadata": {},
     "output_type": "execute_result"
    }
   ],
   "source": [
    "# percent increase\n",
    "len(entries20)/len(entries19)"
   ]
  },
  {
   "cell_type": "markdown",
   "metadata": {},
   "source": [
    "#### Sig Test\n",
    "\n",
    "Collect data to perform significance test in R."
   ]
  },
  {
   "cell_type": "code",
   "execution_count": 119,
   "metadata": {},
   "outputs": [],
   "source": [
    "# acts for each year\n",
    "acts19 = [acts[e['State']] for e in entries19 if e['State'] in acts]\n",
    "acts20 = [acts[e['State']] for e in entries20 if e['State'] in acts]"
   ]
  },
  {
   "cell_type": "code",
   "execution_count": 120,
   "metadata": {},
   "outputs": [],
   "source": [
    "# write to output files\n",
    "with open(DATASETS_PATH + 'acts19.txt', 'w') as out19, open(DATASETS_PATH + 'acts20.txt', 'w') as out20:\n",
    "    [out19.write(str(a) + \"\\n\") for a in acts19]\n",
    "    [out20.write(str(a) + \"\\n\") for a in acts20]"
   ]
  },
  {
   "cell_type": "code",
   "execution_count": 121,
   "metadata": {},
   "outputs": [],
   "source": [
    "# incomes for each year\n",
    "incomes19 = [incomes[e['State']] for e in entries19 if e['State'] in incomes]\n",
    "incomes20 = [incomes[e['State']] for e in entries20 if e['State'] in incomes]"
   ]
  },
  {
   "cell_type": "code",
   "execution_count": 122,
   "metadata": {},
   "outputs": [],
   "source": [
    "# write to output files\n",
    "with open(DATASETS_PATH + 'incomes19.txt', 'w') as out19, open(DATASETS_PATH + 'incomes20.txt', 'w') as out20:\n",
    "    [out19.write(str(a) + \"\\n\") for a in incomes19]\n",
    "    [out20.write(str(a) + \"\\n\") for a in incomes20]"
   ]
  },
  {
   "cell_type": "markdown",
   "metadata": {},
   "source": [
    "#### Tournament Analysis"
   ]
  },
  {
   "cell_type": "code",
   "execution_count": 101,
   "metadata": {},
   "outputs": [
    {
     "data": {
      "text/plain": [
       "['UT19', 'UT20', 'alta19', 'alta20', 'applevalley19']"
      ]
     },
     "execution_count": 101,
     "metadata": {},
     "output_type": "execute_result"
    }
   ],
   "source": [
    "# list of all tournaments\n",
    "tourn_list = sorted(list(set([entry[\"Tournament\"] for entry in entries])))\n",
    "tourn_list[:5]"
   ]
  },
  {
   "cell_type": "code",
   "execution_count": 114,
   "metadata": {},
   "outputs": [],
   "source": [
    "# tournament to entry map\n",
    "entries_by_tourn = {}\n",
    "for entry in entries:\n",
    "    tourn = entry[\"Tournament\"]\n",
    "    if tourn in entries_by_tourn:\n",
    "        entries_by_tourn[tourn].append(entry)\n",
    "    else:\n",
    "        entries_by_tourn[tourn] = [entry]"
   ]
  },
  {
   "cell_type": "code",
   "execution_count": 103,
   "metadata": {},
   "outputs": [
    {
     "name": "stdout",
     "output_type": "stream",
     "text": [
      "UT19\n",
      "UT20\n",
      "alta19\n",
      "alta20\n",
      "applevalley19\n",
      "applevalley20\n",
      "blake19\n",
      "blake20\n",
      "bluekey19\n",
      "bluekey20\n",
      "bronx19\n",
      "bronx20\n",
      "collegeprep19\n",
      "collegeprep20\n",
      "cypress19\n",
      "cypress20\n",
      "dowling19\n",
      "dowling20\n",
      "duke19\n",
      "duke20\n",
      "glenbrooks19\n",
      "glenbrooks20\n",
      "grapevine19\n",
      "grapevine20\n",
      "greenhill19\n",
      "greenhill20\n",
      "heritage19\n",
      "heritage20\n",
      "holycross19\n",
      "holycross20\n",
      "isidore19\n",
      "isidore20\n",
      "jackhowe19\n",
      "jackhowe20\n",
      "loyola19\n",
      "loyola20\n",
      "meadows19\n",
      "meadows20\n",
      "presentation19\n",
      "presentation20\n",
      "princeton19\n",
      "princeton20\n",
      "ridge19\n",
      "ridge20\n",
      "seattle19\n",
      "seattle20\n",
      "strake19\n",
      "strake20\n",
      "uk19\n",
      "uk20\n",
      "usc19\n",
      "usc20\n",
      "valley19\n",
      "valley20\n",
      "yale19\n",
      "yale20\n"
     ]
    }
   ],
   "source": [
    "# write and collect tournament data\n",
    "tournData = []\n",
    "with open(TOURN_CSV, 'w') as outFile:\n",
    "    outWriter = csv.writer(outFile, lineterminator = '\\n')\n",
    "    outWriter.writerow([\"Tournament\",\n",
    "                        \"Entries 2019\",\n",
    "                                           \"Entries 2020\",\n",
    "                                           \"States 2019\",\n",
    "                                           \"States 2020\",\n",
    "                                           \"Local 2020 Participants\",\n",
    "                                           \"Avg Dist 2019\",\n",
    "                                           \"Avg Dist 2020\",\n",
    "                                           \"Avg ACT 2019\",\n",
    "                       \"Avg ACT 2020\",\n",
    "                       \"Avg Income 2019\",\n",
    "                       \"Avg Income 2020\"])\n",
    "    for i in range(len(tourn_list)//2):\n",
    "        tourn19 = tourn_list[2*i]\n",
    "        tourn20 = tourn_list[2*i+1]\n",
    "        host = tournInfo[tourn19][\"State\"]\n",
    "        if host in abbrevOf:\n",
    "            host = abbrevOf[host]\n",
    "        datarow = [tourn19[:-2]] + getTournData(entries_by_tourn[tourn19],\n",
    "                entries_by_tourn[tourn20],\n",
    "                host)\n",
    "        outWriter.writerow(datarow)\n",
    "        tournData.append(datarow)"
   ]
  },
  {
   "cell_type": "code",
   "execution_count": 110,
   "metadata": {},
   "outputs": [
    {
     "data": {
      "text/plain": [
       "['uk',\n",
       " 297,\n",
       " 764,\n",
       " 24,\n",
       " 33,\n",
       " 657,\n",
       " 897.4417380904232,\n",
       " 1260.0560472266932,\n",
       " 21.348797250859104,\n",
       " 22.121810699588497,\n",
       " 67896.47766323024,\n",
       " 74294.08916323731]"
      ]
     },
     "execution_count": 110,
     "metadata": {},
     "output_type": "execute_result"
    }
   ],
   "source": [
    "tournData[-4]"
   ]
  },
  {
   "cell_type": "markdown",
   "metadata": {},
   "source": [
    "#### Visualizations"
   ]
  },
  {
   "cell_type": "code",
   "execution_count": 111,
   "metadata": {},
   "outputs": [],
   "source": [
    "# changes in entry, sorted increasing\n",
    "changeData = [[d[0], d[2]-d[1]] for d in tournData]\n",
    "changeData.sort(key=lambda x: x[1])"
   ]
  },
  {
   "cell_type": "code",
   "execution_count": 112,
   "metadata": {},
   "outputs": [],
   "source": [
    "# name corrections, if necessary\n",
    "fixName = {\n",
    "    \"heritage\" : \"JW Patterson\",\n",
    "    \"usc\" : \"USC\",\n",
    "    \"UT\" : \"UT\",\n",
    "    \"bluekey\" : \"Blue Key\",\n",
    "    \"cypress\" : \"Cypress Bay\",\n",
    "    'collegeprep' : \"College Prep\",\n",
    "    'applevalley' : \"Apple Valley\",\n",
    "    'holycross' : \"Holy Cross\",\n",
    "    \"jackhowe\" : \"Jack Howe\",\n",
    "    'uk': \"UK\"\n",
    "}"
   ]
  },
  {
   "cell_type": "code",
   "execution_count": 113,
   "metadata": {},
   "outputs": [
    {
     "data": {
      "image/png": "[encoded data removed]",
      "text/plain": [
       "<Figure size 432x288 with 1 Axes>"
      ]
     },
     "metadata": {
      "needs_background": "light"
     },
     "output_type": "display_data"
    }
   ],
   "source": [
    "# plot of changes in participation\n",
    "fig = plt.figure()\n",
    "ax = fig.add_axes([0,0,1,1])\n",
    "ax.bar([fixName[d[0]] if d[0] in fixName else d[0].title() for d in changeData], [d[1] for d in changeData])\n",
    "plt.title(\"Change in Participation from 2019 to 2020\")\n",
    "plt.ylabel(\"Entries\")\n",
    "plt.xticks(rotation='vertical')\n",
    "plt.show()"
   ]
  },
  {
   "cell_type": "code",
   "execution_count": 486,
   "metadata": {},
   "outputs": [
    {
     "data": {
      "image/png": "[encoded data removed]",
      "text/plain": [
       "<Figure size 432x288 with 1 Axes>"
      ]
     },
     "metadata": {
      "needs_background": "light"
     },
     "output_type": "display_data"
    }
   ],
   "source": [
    "# alta/ut/princeton visualization\n",
    "N = 2\n",
    "alta = (70, 109)\n",
    "ut = (155, 100)\n",
    "princeton = (144, 112)\n",
    "\n",
    "ind = np.arange(N) \n",
    "width = 0.25    \n",
    "plt.bar(ind, alta, width, label='Alta')\n",
    "plt.bar(ind + width, ut, width,\n",
    "    label='UT')\n",
    "plt.bar(ind + 2*width, princeton, width,\n",
    "    label='Princeton')\n",
    "\n",
    "plt.ylabel('Entries')\n",
    "plt.title('Tournament Entries')\n",
    "\n",
    "plt.xticks(ind + width, ('2019', '2020'))\n",
    "plt.legend(loc='best')\n",
    "plt.show()"
   ]
  },
  {
   "cell_type": "code",
   "execution_count": 116,
   "metadata": {},
   "outputs": [
    {
     "data": {
      "image/png": "[encoded data removed]",
      "text/plain": [
       "<Figure size 432x288 with 1 Axes>"
      ]
     },
     "metadata": {
      "needs_background": "light"
     },
     "output_type": "display_data"
    }
   ],
   "source": [
    "# loyola/heritage/bronx visualization\n",
    "N = 3\n",
    "data19 = (66, 74, 171)\n",
    "data20 = (172, 37, 185)\n",
    "\n",
    "ind = np.arange(N) \n",
    "width = 0.35    \n",
    "plt.bar(ind, data19, width, label='2019')\n",
    "plt.bar(ind + width, data20, width,\n",
    "    label='2020')\n",
    "\n",
    "plt.ylabel('Entries')\n",
    "plt.title('Tournament Entries')\n",
    "\n",
    "plt.xticks(ind + width/2, ('Loyola', 'JW Patterson', \"Bronx\"))\n",
    "plt.legend(loc='best')\n",
    "plt.show()"
   ]
  },
  {
   "cell_type": "code",
   "execution_count": 117,
   "metadata": {},
   "outputs": [],
   "source": [
    "# act data, sorted\n",
    "actData = [[d[0], d[8], d[9]] for d in tournData]\n",
    "actData.sort(key=lambda x: x[1])"
   ]
  },
  {
   "cell_type": "code",
   "execution_count": 118,
   "metadata": {},
   "outputs": [
    {
     "data": {
      "text/plain": [
       "<matplotlib.legend.Legend at 0x1a0c6381fc8>"
      ]
     },
     "execution_count": 118,
     "metadata": {},
     "output_type": "execute_result"
    },
    {
     "data": {
      "image/png": "[encoded data removed]",
      "text/plain": [
       "<Figure size 864x360 with 2 Axes>"
      ]
     },
     "metadata": {
      "needs_background": "light"
     },
     "output_type": "display_data"
    }
   ],
   "source": [
    "# plots of ACT and income tournament averages\n",
    "fig, (ax1, ax2) = plt.subplots(1, 2, figsize=(12,5))\n",
    "ax1.hist([d[8] for d in tournData], alpha=0.5, label='2019', density=True)\n",
    "ax1.hist([d[9] for d in tournData], alpha=0.5, label='2020', density=True)\n",
    "#plt.xticks(range(1, 21))\n",
    "ax1.set(xlabel=\"ACT Score (0-36)\", ylabel=\"Density\")\n",
    "ax1.set_title(\"Estimated Tournament ACT Averages\")\n",
    "ax1.legend(loc='upper right')\n",
    "ax2.hist([d[10] for d in tournData], alpha=0.5, label='2019', density=True)\n",
    "ax2.hist([d[11] for d in tournData], alpha=0.5, label='2020', density=True)\n",
    "#plt.xticks(range(1, 21))\n",
    "ax2.set(xlabel=\"Income ($)\")\n",
    "ax2.set_title(\"Estimated Tournament Income Averages\")\n",
    "ax2.legend(loc='upper right')"
   ]
  },
  {
   "cell_type": "markdown",
   "metadata": {},
   "source": [
    "#### State Analysis"
   ]
  },
  {
   "cell_type": "code",
   "execution_count": 162,
   "metadata": {},
   "outputs": [],
   "source": [
    "# count entries in each state\n",
    "state_entries19 = dict([[state, 0] for state in states])\n",
    "state_entries20 = dict([[state, 0] for state in states])\n",
    "for entry in entries:\n",
    "    state = entry['State']\n",
    "    if state in states:\n",
    "        if \"19\" in entry['Tournament']:\n",
    "            state_entries19[state] += 1\n",
    "        else:\n",
    "            state_entries20[state] += 1"
   ]
  },
  {
   "cell_type": "code",
   "execution_count": 163,
   "metadata": {},
   "outputs": [],
   "source": [
    "# aggregate distance by state\n",
    "state_distance19 = dict([[state, 0] for state in states])\n",
    "state_distance20 = dict([[state, 0] for state in states])\n",
    "for entry in entries:\n",
    "    state = entry['State']\n",
    "    host = tournInfo[entry['Tournament'][:-2] + \"19\"]['State']\n",
    "    if host in abbrevOf:\n",
    "        host = abbrevOf[host]\n",
    "    if state in states:\n",
    "        if \"19\" in entry['Tournament']:\n",
    "            state_distance19[state] += distance(coordinates[state], coordinates[host])\n",
    "        else:\n",
    "            state_distance20[state] += distance(coordinates[state], coordinates[host])"
   ]
  },
  {
   "cell_type": "code",
   "execution_count": 164,
   "metadata": {},
   "outputs": [],
   "source": [
    "# convert to average\n",
    "for state in states:\n",
    "    if state_entries19[state] > 0:\n",
    "        state_distance19[state] /= state_entries19[state]\n",
    "    if state_entries20[state] > 0:\n",
    "        state_distance20[state] /= state_entries20[state]"
   ]
  },
  {
   "cell_type": "code",
   "execution_count": 165,
   "metadata": {},
   "outputs": [],
   "source": [
    "# write to result file\n",
    "with open(STATES_CSV, 'w') as outFile:\n",
    "    outWriter = csv.writer(outFile, lineterminator = '\\n')\n",
    "    outWriter.writerow([\"State\",\n",
    "                      \"Entries19\",\n",
    "                      \"Entries20\",\n",
    "                      \"Distance19\",\n",
    "                      \"Distance20\"])\n",
    "    for state in states:\n",
    "        outWriter.writerow([state,\n",
    "                           state_entries19[state],\n",
    "                           state_entries20[state],\n",
    "                           state_distance19[state],\n",
    "                           state_distance20[state]])"
   ]
  },
  {
   "cell_type": "markdown",
   "metadata": {},
   "source": [
    "#### State Visualizations"
   ]
  },
  {
   "cell_type": "code",
   "execution_count": 101,
   "metadata": {
    "scrolled": true
   },
   "outputs": [
    {
     "data": {
      "image/png": "[encoded data removed]",
      "text/plain": [
       "<Figure size 432x288 with 1 Axes>"
      ]
     },
     "metadata": {
      "needs_background": "light"
     },
     "output_type": "display_data"
    }
   ],
   "source": [
    "# entries by state visualization\n",
    "N = 4\n",
    "data19 = (13, 5, 9, 7)\n",
    "data20 = (42, 16, 21, 19)\n",
    "\n",
    "ind = np.arange(N) \n",
    "width = 0.35    \n",
    "plt.bar(ind, data19, width, label='2019')\n",
    "plt.bar(ind + width, data20, width,\n",
    "    label='2020')\n",
    "\n",
    "plt.ylabel('Entries')\n",
    "plt.title('Entries by State')\n",
    "\n",
    "plt.xticks(ind + width/2, ('Arizona', 'DC', 'New Mexico', 'Wisconsin'))\n",
    "plt.legend(loc='best')\n",
    "plt.show()"
   ]
  },
  {
   "cell_type": "code",
   "execution_count": 102,
   "metadata": {},
   "outputs": [
    {
     "data": {
      "image/png": "[encoded data removed]",
      "text/plain": [
       "<Figure size 360x216 with 1 Axes>"
      ]
     },
     "metadata": {
      "needs_background": "light"
     },
     "output_type": "display_data"
    }
   ],
   "source": [
    "# example states plot (omitted from article)\n",
    "fig = plt.figure(figsize=(5, 3))\n",
    "ax = fig.add_axes([0,0,1,1])\n",
    "labels = [\"MA\", \"CA\", \"IA\", \"TX\", \"NY\",\"AL\",  \"VA\", \"IL\"]\n",
    "values = [60.86, 50.68, 15.07, 1.81, -3.72, -35.71, -47.06, -70.91]\n",
    "ax.bar(labels, values)\n",
    "plt.title(\"Change in Participation from 2019 to 2020\")\n",
    "plt.ylabel(\"Percent Change\")\n",
    "plt.show()"
   ]
  },
  {
   "cell_type": "code",
   "execution_count": 103,
   "metadata": {},
   "outputs": [
    {
     "data": {
      "image/png": "[encoded data removed]",
      "text/plain": [
       "<Figure size 432x288 with 1 Axes>"
      ]
     },
     "metadata": {
      "needs_background": "light"
     },
     "output_type": "display_data"
    }
   ],
   "source": [
    "# distance traveled by state\n",
    "N = 5\n",
    "data19 = (378, 337, 671, 400, 173)\n",
    "data20 = (1009, 1287, 1566, 1032, 621)\n",
    "\n",
    "ind = np.arange(N) \n",
    "width = 0.35    \n",
    "plt.bar(ind, data19, width, label='2019')\n",
    "plt.bar(ind + width, data20, width,\n",
    "    label='2020')\n",
    "\n",
    "plt.ylabel('Distance in Kilometers')\n",
    "plt.title('Distance Traveled by State')\n",
    "\n",
    "plt.xticks(ind + width/2, ('TX', 'UT', 'MA', 'NJ', 'MN'))\n",
    "plt.legend(loc='best')\n",
    "plt.show()"
   ]
  },
  {
   "cell_type": "markdown",
   "metadata": {},
   "source": [
    "#### Lone Wolves"
   ]
  },
  {
   "cell_type": "code",
   "execution_count": 166,
   "metadata": {},
   "outputs": [],
   "source": [
    "# school sizes\n",
    "teammembers19 = {}\n",
    "for entry in entries19:\n",
    "    if not entry['School'] in teammembers19:\n",
    "        teammembers19[entry['School']] = set()\n",
    "    teammembers19[entry['School']].add(entry['Name'])\n",
    "teammembers20 = {}\n",
    "for entry in entries20:\n",
    "    if not entry['School'] in teammembers20:\n",
    "        teammembers20[entry['School']] = set()\n",
    "    teammembers20[entry['School']].add(entry['Name'])"
   ]
  },
  {
   "cell_type": "code",
   "execution_count": 167,
   "metadata": {},
   "outputs": [
    {
     "data": {
      "text/plain": [
       "4.188405797101449"
      ]
     },
     "execution_count": 167,
     "metadata": {},
     "output_type": "execute_result"
    }
   ],
   "source": [
    "# average team size 2019\n",
    "sum([len(t) for t in teammembers19.values()])/len(teammembers19)"
   ]
  },
  {
   "cell_type": "code",
   "execution_count": 168,
   "metadata": {},
   "outputs": [
    {
     "data": {
      "text/plain": [
       "2.8633093525179856"
      ]
     },
     "execution_count": 168,
     "metadata": {},
     "output_type": "execute_result"
    }
   ],
   "source": [
    "# average team size 2020\n",
    "sum([len(t) for t in teammembers20.values()])/len(teammembers20)"
   ]
  },
  {
   "cell_type": "code",
   "execution_count": 169,
   "metadata": {},
   "outputs": [
    {
     "name": "stdout",
     "output_type": "stream",
     "text": [
      "UT19\n",
      "4.228915662650603\n",
      "UT20\n",
      "3.875\n",
      "alta19\n",
      "2.8518518518518516\n",
      "alta20\n",
      "2.361904761904762\n",
      "applevalley19\n",
      "4.587628865979381\n",
      "applevalley20\n",
      "3.657142857142857\n",
      "blake19\n",
      "3.3559322033898304\n",
      "blake20\n",
      "2.8066666666666666\n",
      "bluekey19\n",
      "3.876543209876543\n",
      "bluekey20\n",
      "2.699248120300752\n",
      "bronx19\n",
      "3.485074626865672\n",
      "bronx20\n",
      "3.2807881773399017\n",
      "collegeprep19\n",
      "3.0\n",
      "collegeprep20\n",
      "2.8208955223880596\n",
      "cypress19\n",
      "3.914285714285714\n",
      "cypress20\n",
      "2.5625\n",
      "dowling19\n",
      "3.8260869565217392\n",
      "dowling20\n",
      "2.891089108910891\n",
      "duke19\n",
      "4.71875\n",
      "duke20\n",
      "3.142857142857143\n",
      "glenbrooks19\n",
      "3.2747252747252746\n",
      "glenbrooks20\n",
      "4.004716981132075\n",
      "grapevine19\n",
      "3.0697674418604652\n",
      "grapevine20\n",
      "3.0573248407643314\n",
      "greenhill19\n",
      "2.212121212121212\n",
      "greenhill20\n",
      "2.04\n",
      "heritage19\n",
      "3.9672131147540983\n",
      "heritage20\n",
      "2.4098360655737703\n",
      "holycross19\n",
      "2.888888888888889\n",
      "holycross20\n",
      "2.4285714285714284\n",
      "isidore19\n",
      "3.3653846153846154\n",
      "isidore20\n",
      "2.460674157303371\n",
      "jackhowe19\n",
      "4.658730158730159\n",
      "jackhowe20\n",
      "3.7524271844660193\n",
      "loyola19\n",
      "2.0\n",
      "loyola20\n",
      "2.2613636363636362\n",
      "meadows19\n",
      "2.1555555555555554\n",
      "meadows20\n",
      "3.1846153846153844\n",
      "presentation19\n",
      "3.6666666666666665\n",
      "presentation20\n",
      "3.2111111111111112\n",
      "princeton19\n",
      "5.244186046511628\n",
      "princeton20\n",
      "4.671532846715328\n",
      "ridge19\n",
      "5.450980392156863\n",
      "ridge20\n",
      "5.169811320754717\n",
      "seattle19\n",
      "6.172413793103448\n",
      "seattle20\n",
      "3.4583333333333335\n",
      "strake19\n",
      "1.5172413793103448\n",
      "strake20\n",
      "1.6486486486486487\n",
      "uk19\n",
      "3.126315789473684\n",
      "uk20\n",
      "3.70873786407767\n",
      "usc19\n",
      "4.111111111111111\n",
      "usc20\n",
      "3.2\n",
      "valley19\n",
      "3.309090909090909\n",
      "valley20\n",
      "3.0\n",
      "yale19\n",
      "4.188405797101449\n",
      "yale20\n",
      "2.8633093525179856\n"
     ]
    }
   ],
   "source": [
    "# get school sizes, and new entries (omitted from article)\n",
    "schoolNew = {}\n",
    "schoolAll = {}\n",
    "loneWolves = {}\n",
    "LW19 = 0\n",
    "LW20 = 0\n",
    "sizes19 = []\n",
    "sizes20 = []\n",
    "for i in range(len(tourn_list)//2):\n",
    "    tourn19 = tourn_list[2*i]\n",
    "    tourn20 = tourn_list[2*i+1]\n",
    "    entries19 = entries_by_tourn[tourn19]\n",
    "    entries20 = entries_by_tourn[tourn20]\n",
    "    oldSchools = [entry['School'] for entry in entries19]\n",
    "    schoolSizes = {}\n",
    "    for entry in entries19:\n",
    "        school = entry['School']\n",
    "        if school in schoolSizes:\n",
    "            schoolSizes[school] += 1\n",
    "        else:\n",
    "            schoolSizes[school] = 1\n",
    "    print(tourn19)\n",
    "    print(sum(schoolSizes.values())/len(schoolSizes))\n",
    "    sizes19 += list(schoolSizes.values())\n",
    "    for school in schoolSizes:\n",
    "        if schoolSizes[school] == 1:\n",
    "            LW19 += 1\n",
    "    \n",
    "    schoolSizes = {}\n",
    "    for entry in entries20:\n",
    "        school = entry['School']\n",
    "        \n",
    "        if school in schoolSizes:\n",
    "            schoolSizes[school] += 1\n",
    "        else:\n",
    "            schoolSizes[school] = 1\n",
    "        \n",
    "        if school in schoolAll:\n",
    "            schoolAll[school] += 1\n",
    "        else:\n",
    "            schoolAll[school] = 1\n",
    "        \n",
    "        if school not in oldSchools:\n",
    "            if school in schoolNew:\n",
    "                schoolNew[school] += 1\n",
    "            else:\n",
    "                schoolNew[school] = 1\n",
    "        \n",
    "    print(tourn20)\n",
    "    print(sum(schoolSizes.values())/len(schoolSizes))\n",
    "    for school in schoolSizes:\n",
    "        if schoolSizes[school] == 1:\n",
    "            LW20 += 1\n",
    "    sizes20 += list(schoolSizes.values())"
   ]
  },
  {
   "cell_type": "code",
   "execution_count": 170,
   "metadata": {},
   "outputs": [
    {
     "data": {
      "text/plain": [
       "<matplotlib.legend.Legend at 0x1a0c75c5488>"
      ]
     },
     "execution_count": 170,
     "metadata": {},
     "output_type": "execute_result"
    },
    {
     "data": {
      "image/png": "[encoded data removed]",
      "text/plain": [
       "<Figure size 432x288 with 1 Axes>"
      ]
     },
     "metadata": {
      "needs_background": "light"
     },
     "output_type": "display_data"
    }
   ],
   "source": [
    "# plot squad sizes\n",
    "plt.hist(sizes19, bins=[x-0.5 for x in range(1, 21)], alpha=0.5, label='2019', density=True)\n",
    "plt.hist(sizes20, bins=[x-0.5 for x in range(1, 21)], alpha=0.5, label='2020', density=True)\n",
    "plt.xticks(range(1, 21))\n",
    "plt.xlabel(\"Team Size\")\n",
    "plt.ylabel(\"Density\")\n",
    "plt.title(\"Frequency of Team Size\")\n",
    "plt.legend(loc='upper right')"
   ]
  },
  {
   "cell_type": "code",
   "execution_count": 171,
   "metadata": {},
   "outputs": [
    {
     "data": {
      "text/plain": [
       "0.25971527510580994"
      ]
     },
     "execution_count": 171,
     "metadata": {},
     "output_type": "execute_result"
    }
   ],
   "source": [
    "# percent lone wolves in 2019\n",
    "LW19/2599"
   ]
  },
  {
   "cell_type": "code",
   "execution_count": 172,
   "metadata": {},
   "outputs": [
    {
     "data": {
      "text/plain": [
       "0.3975114603798297"
      ]
     },
     "execution_count": 172,
     "metadata": {},
     "output_type": "execute_result"
    }
   ],
   "source": [
    "# percent lone wolves 2020\n",
    "LW20/3054"
   ]
  },
  {
   "cell_type": "markdown",
   "metadata": {},
   "source": [
    "### Cross-Event"
   ]
  },
  {
   "cell_type": "code",
   "execution_count": 149,
   "metadata": {},
   "outputs": [
    {
     "name": "stdout",
     "output_type": "stream",
     "text": [
      "V LD\n",
      "2599\n",
      "3054\n",
      "JV LD\n",
      "285\n",
      "592\n",
      "N LD\n",
      "416\n",
      "379\n",
      "V PF\n",
      "2489\n",
      "3057\n",
      "JV PF\n",
      "104\n",
      "571\n",
      "N PF\n",
      "289\n",
      "555\n",
      "V CX\n",
      "1270\n",
      "1322\n",
      "JV CX\n",
      "11\n",
      "211\n",
      "N CX\n",
      "116\n",
      "294\n"
     ]
    }
   ],
   "source": [
    "for event in [\"LD\", \"PF\", \"CX\"]:\n",
    "    for division in [\"V\", \"JV\", \"N\"]:\n",
    "        entries2019 = len([e for e in entries if e[\"Event\"] == division+event and e[\"Tournament\"][-2:] == \"19\"])\n",
    "        entries2020 = len([e for e in entries if e[\"Event\"] == division+event and e[\"Tournament\"][-2:] == \"20\"])\n",
    "        print(division, event)\n",
    "        print(entries2019)\n",
    "        print(entries2020)"
   ]
  },
  {
   "cell_type": "code",
   "execution_count": 147,
   "metadata": {},
   "outputs": [
    {
     "data": {
      "text/plain": [
       "[[1.1750673335898423, 2.07719298245614, 0.9110576923076923],\n",
       " [1.2282040980313378, 5.490384615384615, 1.9204152249134947],\n",
       " [1.0409448818897638, 19.181818181818183, 2.5344827586206895]]"
      ]
     },
     "execution_count": 147,
     "metadata": {},
     "output_type": "execute_result"
    }
   ],
   "source": [
    "event_div_increase"
   ]
  },
  {
   "cell_type": "code",
   "execution_count": 159,
   "metadata": {},
   "outputs": [
    {
     "name": "stdout",
     "output_type": "stream",
     "text": [
      "UT20 added NCX\n",
      "UT20 added NPF\n",
      "UT20 added NLD\n",
      "blake20 added NCX\n",
      "bluekey20 added NPF\n",
      "bluekey20 added NLD\n",
      "bronx20 added JVPF\n",
      "bronx20 added JVLD\n",
      "bronx20 added JVCX\n",
      "collegeprep20 added JVLD\n",
      "cypress20 added JVPF\n",
      "dowling20 added NLD\n",
      "duke20 added JVPF\n",
      "duke20 added JVLD\n",
      "duke20 lost NPF\n",
      "duke20 lost NLD\n",
      "glenbrooks20 added NCX\n",
      "glenbrooks20 added JVCX\n",
      "grapevine20 added JVPF\n",
      "grapevine20 added JVLD\n",
      "grapevine20 added JVCX\n",
      "heritage20 added JVCX\n",
      "heritage20 lost VPF\n",
      "heritage20 lost NPF\n",
      "heritage20 lost NLD\n",
      "holycross20 added VCX\n",
      "holycross20 lost NCX\n",
      "jackhowe20 added JVCX\n",
      "loyola20 added VPF\n",
      "meadows20 added JVLD\n",
      "meadows20 added NCX\n",
      "meadows20 added JVCX\n",
      "meadows20 added NLD\n",
      "princeton20 added JVPF\n",
      "princeton20 added JVLD\n",
      "princeton20 added NPF\n",
      "ridge20 added NCX\n",
      "seattle20 added JVPF\n",
      "seattle20 lost NCX\n",
      "uk20 added JVLD\n",
      "uk20 added NCX\n",
      "uk20 added NPF\n",
      "uk20 added JVCX\n",
      "usc20 added NCX\n",
      "usc20 added JVCX\n",
      "yale20 added JVCX\n"
     ]
    }
   ],
   "source": [
    "new = 0\n",
    "lost = 0\n",
    "newJV = 0\n",
    "for i in range(len(tourn_list)//2):\n",
    "    tourn19 = tourn_list[2*i]\n",
    "    tourn20 = tourn_list[2*i+1]\n",
    "    entries19 = entries_by_tourn[tourn19]\n",
    "    entries20 = entries_by_tourn[tourn20]\n",
    "    events19 = set(e['Event'] for e in entries19)\n",
    "    events20 = set(e['Event'] for e in entries20)\n",
    "    for event in events20:\n",
    "        if event not in events19:\n",
    "            print(tourn20, \"added\", event)\n",
    "            new+=1\n",
    "            if event[:2] == \"JV\":\n",
    "                newJV+=1\n",
    "    for event in events19:\n",
    "        if event not in events20:\n",
    "            print(tourn20, \"lost\", event)\n",
    "            lost+=1"
   ]
  },
  {
   "cell_type": "code",
   "execution_count": 160,
   "metadata": {},
   "outputs": [
    {
     "name": "stdout",
     "output_type": "stream",
     "text": [
      "39 7 22\n"
     ]
    }
   ],
   "source": [
    "print(new, lost, newJV)"
   ]
  },
  {
   "cell_type": "code",
   "execution_count": 158,
   "metadata": {},
   "outputs": [
    {
     "data": {
      "text/plain": [
       "[OrderedDict([('Tournament', 'holycross19'),\n",
       "              ('Event', 'NCX'),\n",
       "              ('School', 'Baton Rouge High School'),\n",
       "              ('State', 'LA'),\n",
       "              ('Name', 'Parker & Li'),\n",
       "              ('Code', 'Baton Rouge PL'),\n",
       "              ('Status', None)]),\n",
       " OrderedDict([('Tournament', 'holycross19'),\n",
       "              ('Event', 'NCX'),\n",
       "              ('School', 'Isidore Newman School'),\n",
       "              ('State', 'LA'),\n",
       "              ('Name', 'Elliot & Piedimonte'),\n",
       "              ('Code', 'Isidore Newman EP'),\n",
       "              ('Status', None)]),\n",
       " OrderedDict([('Tournament', 'holycross19'),\n",
       "              ('Event', 'NCX'),\n",
       "              ('School', 'Neville High School'),\n",
       "              ('State', 'LA'),\n",
       "              ('Name', 'Haynes & Merritt'),\n",
       "              ('Code', 'Neville HaMe'),\n",
       "              ('Status', None)]),\n",
       " OrderedDict([('Tournament', 'holycross19'),\n",
       "              ('Event', 'NCX'),\n",
       "              ('School', 'Neville High School'),\n",
       "              ('State', 'LA'),\n",
       "              ('Name', 'Griffin & Mitchell'),\n",
       "              ('Code', 'Neville MG'),\n",
       "              ('Status', None)]),\n",
       " OrderedDict([('Tournament', 'holycross19'),\n",
       "              ('Event', 'NCX'),\n",
       "              ('School', 'Neville High School'),\n",
       "              ('State', 'LA'),\n",
       "              ('Name', 'McDonald & Morgan'),\n",
       "              ('Code', 'Neville MM'),\n",
       "              ('Status', None)]),\n",
       " OrderedDict([('Tournament', 'holycross19'),\n",
       "              ('Event', 'NCX'),\n",
       "              ('School', 'Neville High School'),\n",
       "              ('State', 'LA'),\n",
       "              ('Name', 'Washington & Woods'),\n",
       "              ('Code', 'Neville WW'),\n",
       "              ('Status', None)]),\n",
       " OrderedDict([('Tournament', 'holycross19'),\n",
       "              ('Event', 'NCX'),\n",
       "              ('School', \"St. Andrew's Episcopal School\"),\n",
       "              ('State', 'MS'),\n",
       "              ('Name', 'Dhar & Lane'),\n",
       "              ('Code', \"St. Andrew's Episcopal DL\"),\n",
       "              ('Status', None)])]"
      ]
     },
     "execution_count": 158,
     "metadata": {},
     "output_type": "execute_result"
    }
   ],
   "source": [
    "[e for e in entries_by_tourn['holycross19'] if e['Event'] == 'NCX']"
   ]
  },
  {
   "cell_type": "code",
   "execution_count": null,
   "metadata": {},
   "outputs": [],
   "source": []
  }
 ],
 "metadata": {
  "kernelspec": {
   "display_name": "Python 3",
   "language": "python",
   "name": "python3"
  },
  "language_info": {
   "codemirror_mode": {
    "name": "ipython",
    "version": 3
   },
   "file_extension": ".py",
   "mimetype": "text/x-python",
   "name": "python",
   "nbconvert_exporter": "python",
   "pygments_lexer": "ipython3",
   "version": "3.7.4"
  }
 },
 "nbformat": 4,
 "nbformat_minor": 2
}
