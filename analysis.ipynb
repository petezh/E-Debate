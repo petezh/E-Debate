{
 "cells": [
  {
   "cell_type": "markdown",
   "metadata": {},
   "source": [
    "Entries Analysis\n",
    "---\n",
    "\n",
    "Author: Peter Zhang\n",
    "\n",
    "Analysis of tournament entries."
   ]
  },
  {
   "cell_type": "markdown",
   "metadata": {},
   "source": [
    "### Setup\n",
    "\n",
    "#### Imports"
   ]
  },
  {
   "cell_type": "code",
   "execution_count": 2,
   "metadata": {},
   "outputs": [
    {
     "name": "stderr",
     "output_type": "stream",
     "text": [
      "In C:\\Users\\thepe\\Anaconda3\\lib\\site-packages\\matplotlib\\mpl-data\\stylelib\\_classic_test.mplstyle: \n",
      "The text.latex.preview rcparam was deprecated in Matplotlib 3.3 and will be removed two minor releases later.\n",
      "In C:\\Users\\thepe\\Anaconda3\\lib\\site-packages\\matplotlib\\mpl-data\\stylelib\\_classic_test.mplstyle: \n",
      "The mathtext.fallback_to_cm rcparam was deprecated in Matplotlib 3.3 and will be removed two minor releases later.\n",
      "In C:\\Users\\thepe\\Anaconda3\\lib\\site-packages\\matplotlib\\mpl-data\\stylelib\\_classic_test.mplstyle: Support for setting the 'mathtext.fallback_to_cm' rcParam is deprecated since 3.3 and will be removed two minor releases later; use 'mathtext.fallback : 'cm' instead.\n",
      "In C:\\Users\\thepe\\Anaconda3\\lib\\site-packages\\matplotlib\\mpl-data\\stylelib\\_classic_test.mplstyle: \n",
      "The validate_bool_maybe_none function was deprecated in Matplotlib 3.3 and will be removed two minor releases later.\n",
      "In C:\\Users\\thepe\\Anaconda3\\lib\\site-packages\\matplotlib\\mpl-data\\stylelib\\_classic_test.mplstyle: \n",
      "The savefig.jpeg_quality rcparam was deprecated in Matplotlib 3.3 and will be removed two minor releases later.\n",
      "In C:\\Users\\thepe\\Anaconda3\\lib\\site-packages\\matplotlib\\mpl-data\\stylelib\\_classic_test.mplstyle: \n",
      "The keymap.all_axes rcparam was deprecated in Matplotlib 3.3 and will be removed two minor releases later.\n",
      "In C:\\Users\\thepe\\Anaconda3\\lib\\site-packages\\matplotlib\\mpl-data\\stylelib\\_classic_test.mplstyle: \n",
      "The animation.avconv_path rcparam was deprecated in Matplotlib 3.3 and will be removed two minor releases later.\n",
      "In C:\\Users\\thepe\\Anaconda3\\lib\\site-packages\\matplotlib\\mpl-data\\stylelib\\_classic_test.mplstyle: \n",
      "The animation.avconv_args rcparam was deprecated in Matplotlib 3.3 and will be removed two minor releases later.\n"
     ]
    }
   ],
   "source": [
    "# imports\n",
    "import csv\n",
    "import mpu\n",
    "import numpy as np\n",
    "from matplotlib import pyplot as plt"
   ]
  },
  {
   "cell_type": "markdown",
   "metadata": {},
   "source": [
    "#### Input Data"
   ]
  },
  {
   "cell_type": "code",
   "execution_count": 3,
   "metadata": {},
   "outputs": [],
   "source": [
    "# location of the combined, entries dataset\n",
    "ENTRIES_CSV = 'datasets/entries.csv'"
   ]
  },
  {
   "cell_type": "code",
   "execution_count": 4,
   "metadata": {},
   "outputs": [],
   "source": [
    "# read entries\n",
    "with open(ENTRIES_CSV) as inFile:\n",
    "    inReader = csv.DictReader(inFile)\n",
    "    entries = [row for row in inReader]\n",
    "    for entry in entries:\n",
    "        entry['State'] = entry['State'].split(\"/\")[0]"
   ]
  },
  {
   "cell_type": "code",
   "execution_count": 5,
   "metadata": {},
   "outputs": [],
   "source": [
    "# location of the tournamnet info dataset\n",
    "INFO_CSV = 'datasets/tournInfo.csv'"
   ]
  },
  {
   "cell_type": "code",
   "execution_count": 6,
   "metadata": {},
   "outputs": [],
   "source": [
    "# read tournament info\n",
    "tournInfo = {}\n",
    "with open(INFO_CSV) as inFile:\n",
    "    inReader = csv.DictReader(inFile)\n",
    "    for row in inReader:\n",
    "        tournInfo[row[\"Tourn Name\"]] = row\n",
    "    for tourn in tournInfo:\n",
    "        tournInfo[tourn]['State'] = tournInfo[tourn]['State'].split(\"/\")[0]"
   ]
  },
  {
   "cell_type": "code",
   "execution_count": 7,
   "metadata": {},
   "outputs": [],
   "source": [
    "# location of the state coordinates dataset\n",
    "LOCATION_CSV = 'datasets/locations.csv'"
   ]
  },
  {
   "cell_type": "code",
   "execution_count": 8,
   "metadata": {},
   "outputs": [],
   "source": [
    "# read locations as map\n",
    "coordinates = {}\n",
    "with open(LOCATION_CSV) as inFile:\n",
    "    inReader = csv.DictReader(inFile)\n",
    "    for row in inReader:\n",
    "        state = row['State']\n",
    "        lat = float(row['Lattitude'])\n",
    "        long = float(row['Longitude'])\n",
    "        coordinates[state] = (lat, long)"
   ]
  },
  {
   "cell_type": "code",
   "execution_count": 9,
   "metadata": {},
   "outputs": [],
   "source": [
    "# list of valid states\n",
    "states = coordinates.keys()"
   ]
  },
  {
   "cell_type": "code",
   "execution_count": 10,
   "metadata": {},
   "outputs": [],
   "source": [
    "# location of state abbreviations dataset\n",
    "ABBREV_CSV = 'datasets/abbrev.csv'"
   ]
  },
  {
   "cell_type": "code",
   "execution_count": 11,
   "metadata": {},
   "outputs": [],
   "source": [
    "# read abbreviations into map\n",
    "abbrevOf = {}\n",
    "with open(ABBREV_CSV) as inFile:\n",
    "    inReader = csv.DictReader(inFile)\n",
    "    for row in inReader:\n",
    "        abbrevOf[row['Name']] = row['Abbrev']"
   ]
  },
  {
   "cell_type": "code",
   "execution_count": 12,
   "metadata": {},
   "outputs": [],
   "source": [
    "# state ACT scores dataset\n",
    "ACT_CSV = 'datasets/actscores.csv'"
   ]
  },
  {
   "cell_type": "code",
   "execution_count": 13,
   "metadata": {},
   "outputs": [],
   "source": [
    "# read ACT scores as map\n",
    "acts = {}\n",
    "with open(ACT_CSV) as inFile:\n",
    "    inReader = csv.DictReader(inFile)\n",
    "    for row in inReader:\n",
    "        state = row['State']\n",
    "        if state in abbrevOf:\n",
    "            acts[abbrevOf[state]] = float(row['Score'])"
   ]
  },
  {
   "cell_type": "code",
   "execution_count": 14,
   "metadata": {},
   "outputs": [],
   "source": [
    "# real household income dataset\n",
    "INCOME_CSV = 'datasets/income.csv'"
   ]
  },
  {
   "cell_type": "code",
   "execution_count": 15,
   "metadata": {},
   "outputs": [],
   "source": [
    "# read income dataset as map\n",
    "incomes = {}\n",
    "with open(INCOME_CSV) as inFile:\n",
    "    inReader = csv.DictReader(inFile)\n",
    "    for row in inReader:\n",
    "        state = row['State']\n",
    "        if state in abbrevOf:\n",
    "            income = row['Income'].replace(',', '')\n",
    "            incomes[abbrevOf[state]] = int(income)"
   ]
  },
  {
   "cell_type": "code",
   "execution_count": 50,
   "metadata": {},
   "outputs": [],
   "source": [
    "# result locations\n",
    "TOURN_CSV = 'results/tournResults.csv'\n",
    "STATES_CSV = 'results/stateResults.csv'\n",
    "DATASETS_PATH = 'datasets/'"
   ]
  },
  {
   "cell_type": "markdown",
   "metadata": {},
   "source": [
    "### Analysis\n",
    "\n",
    "#### Helper Functions"
   ]
  },
  {
   "cell_type": "code",
   "execution_count": 17,
   "metadata": {},
   "outputs": [],
   "source": [
    "# calculate average ACT score\n",
    "def avgACT(entries):\n",
    "    scores = [acts[entry['State']] for entry in entries if entry['State'] in states]\n",
    "    return sum(scores)/len(scores)"
   ]
  },
  {
   "cell_type": "code",
   "execution_count": 18,
   "metadata": {},
   "outputs": [],
   "source": [
    "# calculate average income\n",
    "def avgIncome(entries):\n",
    "    households = [incomes[entry['State']] for entry in entries if entry['State'] in states]\n",
    "    return sum(households)/len(households)"
   ]
  },
  {
   "cell_type": "code",
   "execution_count": 19,
   "metadata": {},
   "outputs": [],
   "source": [
    "# compute distance between two sets of coords\n",
    "def distance(coords1, coords2):\n",
    "    return mpu.haversine_distance(coords1, coords2)"
   ]
  },
  {
   "cell_type": "code",
   "execution_count": 20,
   "metadata": {},
   "outputs": [],
   "source": [
    "# compute average distance of entries from host state\n",
    "def avgDist(entries, host):\n",
    "    hostCoords = coordinates[host]\n",
    "    totalDist = 0\n",
    "    for entry in entries:\n",
    "        state = entry[\"State\"]\n",
    "        if state in states:\n",
    "            coords = coordinates[state]\n",
    "            totalDist += distance(hostCoords, coords)\n",
    "    return totalDist/len(entries)"
   ]
  },
  {
   "cell_type": "code",
   "execution_count": 21,
   "metadata": {},
   "outputs": [],
   "source": [
    "# collect tournament information\n",
    "def getTournData(entries19, entries20, host):\n",
    "    # count entries\n",
    "    numEntries19 = len(entries19)\n",
    "    numEntries20 = len(entries20)\n",
    "    # get states\n",
    "    states19 = set([entry[\"State\"] for entry in entries19])\n",
    "    states20 = set([entry[\"State\"] for entry in entries20])\n",
    "    # remove empty/unformatted states\n",
    "    states19 = [state for state in states19 if state in states]\n",
    "    states20 = [state for state in states20 if state in states]\n",
    "    # find num of orig\n",
    "    original = len([entry for entry in entries20 if entry[\"State\"] in states19])\n",
    "    # compute average distance, ACT, and income\n",
    "    avgDist19 = avgDist(entries19, host)\n",
    "    avgDist20 = avgDist(entries20, host)\n",
    "    avgACT19 = avgACT(entries19)\n",
    "    avgACT20 = avgACT(entries20)\n",
    "    avgIncome19 = avgIncome(entries19)\n",
    "    avgIncome20 = avgIncome(entries20)\n",
    "    return [numEntries19,\n",
    "            numEntries20,\n",
    "           len(states19),\n",
    "           len(states20),\n",
    "           original, \n",
    "           avgDist19,\n",
    "           avgDist20,\n",
    "            avgACT19,\n",
    "            avgACT20,\n",
    "            avgIncome19,\n",
    "            avgIncome20]"
   ]
  },
  {
   "cell_type": "markdown",
   "metadata": {},
   "source": [
    "#### Example"
   ]
  },
  {
   "cell_type": "code",
   "execution_count": 22,
   "metadata": {},
   "outputs": [],
   "source": [
    "# get dowling entries\n",
    "dowling19 = [entry for entry in entries if entry[\"Tournament\"] == \"dowling19\"]\n",
    "dowling20 = [entry for entry in entries if entry[\"Tournament\"] == \"dowling20\"]"
   ]
  },
  {
   "cell_type": "code",
   "execution_count": 23,
   "metadata": {},
   "outputs": [
    {
     "data": {
      "text/plain": [
       "46"
      ]
     },
     "execution_count": 23,
     "metadata": {},
     "output_type": "execute_result"
    }
   ],
   "source": [
    "# entries in 2019\n",
    "len(dowling19)"
   ]
  },
  {
   "cell_type": "code",
   "execution_count": 24,
   "metadata": {},
   "outputs": [
    {
     "data": {
      "text/plain": [
       "58"
      ]
     },
     "execution_count": 24,
     "metadata": {},
     "output_type": "execute_result"
    }
   ],
   "source": [
    "# entries in 2020\n",
    "len(dowling20)"
   ]
  },
  {
   "cell_type": "code",
   "execution_count": 25,
   "metadata": {},
   "outputs": [
    {
     "data": {
      "text/plain": [
       "5"
      ]
     },
     "execution_count": 25,
     "metadata": {},
     "output_type": "execute_result"
    }
   ],
   "source": [
    "# states in 2019\n",
    "len(set([entry[\"State\"] for entry in dowling19]))"
   ]
  },
  {
   "cell_type": "code",
   "execution_count": 26,
   "metadata": {
    "scrolled": true
   },
   "outputs": [
    {
     "data": {
      "text/plain": [
       "14"
      ]
     },
     "execution_count": 26,
     "metadata": {},
     "output_type": "execute_result"
    }
   ],
   "source": [
    "# states in 2020\n",
    "len(set([entry[\"State\"] for entry in dowling20]))"
   ]
  },
  {
   "cell_type": "code",
   "execution_count": 27,
   "metadata": {},
   "outputs": [
    {
     "data": {
      "text/plain": [
       "734.9076245222992"
      ]
     },
     "execution_count": 27,
     "metadata": {},
     "output_type": "execute_result"
    }
   ],
   "source": [
    "# average distance\n",
    "avgDist(dowling20, \"IA\")"
   ]
  },
  {
   "cell_type": "code",
   "execution_count": 28,
   "metadata": {},
   "outputs": [
    {
     "data": {
      "text/plain": [
       "[46,\n",
       " 58,\n",
       " 5,\n",
       " 14,\n",
       " 36,\n",
       " 438.7359269268798,\n",
       " 734.9076245222992,\n",
       " 20.760869565217394,\n",
       " 20.89310344827586,\n",
       " 70490.28260869565,\n",
       " 69901.18965517242]"
      ]
     },
     "execution_count": 28,
     "metadata": {},
     "output_type": "execute_result"
    }
   ],
   "source": [
    "# tourn data\n",
    "getTournData(dowling19, dowling20, \"IA\")"
   ]
  },
  {
   "cell_type": "markdown",
   "metadata": {},
   "source": [
    "#### EDA"
   ]
  },
  {
   "cell_type": "code",
   "execution_count": 29,
   "metadata": {},
   "outputs": [],
   "source": [
    "# get 2019 and 2020 entries\n",
    "entries19 = [e for e in entries if e['Tournament'][-2:] == '19']\n",
    "entries20 = [e for e in entries if e['Tournament'][-2:] == '20']"
   ]
  },
  {
   "cell_type": "code",
   "execution_count": 30,
   "metadata": {},
   "outputs": [
    {
     "data": {
      "text/plain": [
       "1312"
      ]
     },
     "execution_count": 30,
     "metadata": {},
     "output_type": "execute_result"
    }
   ],
   "source": [
    "# distinct 2019 debaters\n",
    "len(set([e['Name'] for e in entries19]))"
   ]
  },
  {
   "cell_type": "code",
   "execution_count": 31,
   "metadata": {},
   "outputs": [
    {
     "data": {
      "text/plain": [
       "1103"
      ]
     },
     "execution_count": 31,
     "metadata": {},
     "output_type": "execute_result"
    }
   ],
   "source": [
    "# distinct 2020 debaters\n",
    "len(set([e['Name'] for e in entries20]))"
   ]
  },
  {
   "cell_type": "code",
   "execution_count": 32,
   "metadata": {},
   "outputs": [
    {
     "data": {
      "text/plain": [
       "1.9809451219512195"
      ]
     },
     "execution_count": 32,
     "metadata": {},
     "output_type": "execute_result"
    }
   ],
   "source": [
    "# entries per debater 2019\n",
    "len(entries19)/1312"
   ]
  },
  {
   "cell_type": "code",
   "execution_count": 33,
   "metadata": {},
   "outputs": [
    {
     "data": {
      "text/plain": [
       "2.7688123300090663"
      ]
     },
     "execution_count": 33,
     "metadata": {},
     "output_type": "execute_result"
    }
   ],
   "source": [
    "# entries per debater 2020\n",
    "len(entries20)/1103"
   ]
  },
  {
   "cell_type": "code",
   "execution_count": 34,
   "metadata": {},
   "outputs": [
    {
     "data": {
      "text/plain": [
       "1.1750673335898423"
      ]
     },
     "execution_count": 34,
     "metadata": {},
     "output_type": "execute_result"
    }
   ],
   "source": [
    "# percent increase\n",
    "len(entries20)/len(entries19)"
   ]
  },
  {
   "cell_type": "markdown",
   "metadata": {},
   "source": [
    "#### Sig Test\n",
    "\n",
    "Collect data to perform significance test in R."
   ]
  },
  {
   "cell_type": "code",
   "execution_count": 35,
   "metadata": {},
   "outputs": [],
   "source": [
    "# acts for each year\n",
    "acts19 = [acts[e['State']] for e in entries19 if e['State'] in acts]\n",
    "acts20 = [acts[e['State']] for e in entries20 if e['State'] in acts]"
   ]
  },
  {
   "cell_type": "code",
   "execution_count": 36,
   "metadata": {},
   "outputs": [],
   "source": [
    "# write to output files\n",
    "with open(DATASETS_PATH + 'acts19.txt', 'w') as out19, open(DATASETS_PATH + 'acts20.txt', 'w') as out20:\n",
    "    [out19.write(str(a) + \"\\n\") for a in acts19]\n",
    "    [out20.write(str(a) + \"\\n\") for a in acts20]"
   ]
  },
  {
   "cell_type": "code",
   "execution_count": 37,
   "metadata": {},
   "outputs": [],
   "source": [
    "# incomes for each year\n",
    "incomes19 = [incomes[e['State']] for e in entries19 if e['State'] in incomes]\n",
    "incomes20 = [incomes[e['State']] for e in entries20 if e['State'] in incomes]"
   ]
  },
  {
   "cell_type": "code",
   "execution_count": 38,
   "metadata": {},
   "outputs": [],
   "source": [
    "# write to output files\n",
    "with open(DATASETS_PATH + 'incomes19.txt', 'w') as out19, open(DATASETS_PATH + 'incomes20.txt', 'w') as out20:\n",
    "    [out19.write(str(a) + \"\\n\") for a in incomes19]\n",
    "    [out20.write(str(a) + \"\\n\") for a in incomes20]"
   ]
  },
  {
   "cell_type": "markdown",
   "metadata": {},
   "source": [
    "#### Tournament Analysis"
   ]
  },
  {
   "cell_type": "code",
   "execution_count": 39,
   "metadata": {},
   "outputs": [
    {
     "data": {
      "text/plain": [
       "['UT19', 'UT20', 'alta19', 'alta20', 'applevalley19']"
      ]
     },
     "execution_count": 39,
     "metadata": {},
     "output_type": "execute_result"
    }
   ],
   "source": [
    "# list of all tournaments\n",
    "tourn_list = sorted(list(set([entry[\"Tournament\"] for entry in entries])))\n",
    "tourn_list[:5]"
   ]
  },
  {
   "cell_type": "code",
   "execution_count": 40,
   "metadata": {},
   "outputs": [],
   "source": [
    "# tournament to entry map\n",
    "entries_by_tourn = {}\n",
    "for entry in entries:\n",
    "    tourn = entry[\"Tournament\"]\n",
    "    if tourn in entries_by_tourn:\n",
    "        entries_by_tourn[tourn].append(entry)\n",
    "    else:\n",
    "        entries_by_tourn[tourn] = [entry]"
   ]
  },
  {
   "cell_type": "code",
   "execution_count": 41,
   "metadata": {},
   "outputs": [],
   "source": [
    "# write and collect tournament data\n",
    "tournData = []\n",
    "with open(TOURN_CSV, 'w') as outFile:\n",
    "    outWriter = csv.writer(outFile, lineterminator = '\\n')\n",
    "    outWriter.writerow([\"Tournament\",\n",
    "                        \"Entries 2019\",\n",
    "                                           \"Entries 2020\",\n",
    "                                           \"States 2019\",\n",
    "                                           \"States 2020\",\n",
    "                                           \"Local 2020 Participants\",\n",
    "                                           \"Avg Dist 2019\",\n",
    "                                           \"Avg Dist 2020\",\n",
    "                                           \"Avg ACT 2019\",\n",
    "                       \"Avg ACT 2020\",\n",
    "                       \"Avg Income 2019\",\n",
    "                       \"Avg Income 2020\"])\n",
    "    for i in range(len(tourn_list)//2):\n",
    "        tourn19 = tourn_list[2*i]\n",
    "        tourn20 = tourn_list[2*i+1]\n",
    "        host = tournInfo[tourn19][\"State\"]\n",
    "        if host in abbrevOf:\n",
    "            host = abbrevOf[host]\n",
    "        datarow = [tourn19[:-2]] + getTournData(entries_by_tourn[tourn19],\n",
    "                entries_by_tourn[tourn20],\n",
    "                host)\n",
    "        outWriter.writerow(datarow)\n",
    "        tournData.append(datarow)"
   ]
  },
  {
   "cell_type": "code",
   "execution_count": 42,
   "metadata": {},
   "outputs": [
    {
     "data": {
      "text/plain": [
       "['UT',\n",
       " 155,\n",
       " 100,\n",
       " 4,\n",
       " 7,\n",
       " 92,\n",
       " 31.804715172621222,\n",
       " 176.4152368655271,\n",
       " 20.43032258064516,\n",
       " 20.554000000000006,\n",
       " 66853.56129032258,\n",
       " 66983.1]"
      ]
     },
     "execution_count": 42,
     "metadata": {},
     "output_type": "execute_result"
    }
   ],
   "source": [
    "tournData[0]"
   ]
  },
  {
   "cell_type": "markdown",
   "metadata": {},
   "source": [
    "#### Visualizations"
   ]
  },
  {
   "cell_type": "code",
   "execution_count": 43,
   "metadata": {},
   "outputs": [],
   "source": [
    "# changes in entry, sorted increasing\n",
    "changeData = [[d[0], d[2]-d[1]] for d in tournData]\n",
    "changeData.sort(key=lambda x: x[1])"
   ]
  },
  {
   "cell_type": "code",
   "execution_count": 44,
   "metadata": {},
   "outputs": [],
   "source": [
    "# name corrections, if necessary\n",
    "fixName = {\n",
    "    \"heritage\" : \"JW Patterson\",\n",
    "    \"usc\" : \"USC\",\n",
    "    \"UT\" : \"UT\",\n",
    "    \"bluekey\" : \"Blue Key\",\n",
    "    \"cypress\" : \"Cypress Bay\",\n",
    "    'collegeprep' : \"College Prep\",\n",
    "    'applevalley' : \"Apple Valley\",\n",
    "    'holycross' : \"Holy Cross\",\n",
    "    \"jackhowe\" : \"Jack Howe\",\n",
    "    'uk': \"UK\"\n",
    "}"
   ]
  },
  {
   "cell_type": "code",
   "execution_count": 49,
   "metadata": {},
   "outputs": [
    {
     "data": {
      "image/png": "[encoded data removed]",
      "text/plain": [
       "<Figure size 432x288 with 1 Axes>"
      ]
     },
     "metadata": {
      "needs_background": "light"
     },
     "output_type": "display_data"
    }
   ],
   "source": [
    "# plot of changes in participation\n",
    "fig = plt.figure()\n",
    "ax = fig.add_axes([0,0,1,1])\n",
    "ax.bar([fixName[d[0]] if d[0] in fixName else d[0].title() for d in changeData], [d[1] for d in changeData])\n",
    "plt.title(\"Change in Participation from 2019 to 2020\")\n",
    "plt.ylabel(\"Entries\")\n",
    "plt.xticks(rotation='vertical')\n",
    "plt.show()"
   ]
  },
  {
   "cell_type": "code",
   "execution_count": 486,
   "metadata": {},
   "outputs": [
    {
     "data": {
      "image/png": "[encoded data removed]",
      "text/plain": [
       "<Figure size 432x288 with 1 Axes>"
      ]
     },
     "metadata": {
      "needs_background": "light"
     },
     "output_type": "display_data"
    }
   ],
   "source": [
    "# alta/ut/princeton visualization\n",
    "N = 2\n",
    "alta = (70, 109)\n",
    "ut = (155, 100)\n",
    "princeton = (144, 112)\n",
    "\n",
    "ind = np.arange(N) \n",
    "width = 0.25    \n",
    "plt.bar(ind, alta, width, label='Alta')\n",
    "plt.bar(ind + width, ut, width,\n",
    "    label='UT')\n",
    "plt.bar(ind + 2*width, princeton, width,\n",
    "    label='Princeton')\n",
    "\n",
    "plt.ylabel('Entries')\n",
    "plt.title('Tournament Entries')\n",
    "\n",
    "plt.xticks(ind + width, ('2019', '2020'))\n",
    "plt.legend(loc='best')\n",
    "plt.show()"
   ]
  },
  {
   "cell_type": "code",
   "execution_count": 100,
   "metadata": {},
   "outputs": [
    {
     "data": {
      "image/png": "[encoded data removed]",
      "text/plain": [
       "<Figure size 432x288 with 1 Axes>"
      ]
     },
     "metadata": {
      "needs_background": "light"
     },
     "output_type": "display_data"
    }
   ],
   "source": [
    "# loyola/heritage/bronx visualization\n",
    "N = 3\n",
    "data19 = (66, 74, 171)\n",
    "data20 = (172, 37, 185)\n",
    "\n",
    "ind = np.arange(N) \n",
    "width = 0.35    \n",
    "plt.bar(ind, data19, width, label='2019')\n",
    "plt.bar(ind + width, data20, width,\n",
    "    label='2020')\n",
    "\n",
    "plt.ylabel('Entries')\n",
    "plt.title('Tournament Entries')\n",
    "\n",
    "plt.xticks(ind + width/2, ('Loyola', 'JW Patterson', \"Bronx\"))\n",
    "plt.legend(loc='best')\n",
    "plt.show()"
   ]
  },
  {
   "cell_type": "code",
   "execution_count": 104,
   "metadata": {},
   "outputs": [],
   "source": [
    "# act data, sorted\n",
    "actData = [[d[0], d[8], d[9]] for d in tournData]\n",
    "actData.sort(key=lambda x: x[1])"
   ]
  },
  {
   "cell_type": "code",
   "execution_count": 105,
   "metadata": {},
   "outputs": [
    {
     "data": {
      "text/plain": [
       "<matplotlib.legend.Legend at 0x1e50b64f688>"
      ]
     },
     "execution_count": 105,
     "metadata": {},
     "output_type": "execute_result"
    },
    {
     "data": {
      "image/png": "[encoded data removed]",
      "text/plain": [
       "<Figure size 864x360 with 2 Axes>"
      ]
     },
     "metadata": {
      "needs_background": "light"
     },
     "output_type": "display_data"
    }
   ],
   "source": [
    "# plots of ACT and income tournament averages\n",
    "fig, (ax1, ax2) = plt.subplots(1, 2, figsize=(12,5))\n",
    "ax1.hist([d[8] for d in tournData], alpha=0.5, label='2019', density=True)\n",
    "ax1.hist([d[9] for d in tournData], alpha=0.5, label='2020', density=True)\n",
    "#plt.xticks(range(1, 21))\n",
    "ax1.set(xlabel=\"ACT Score (0-36)\", ylabel=\"Density\")\n",
    "ax1.set_title(\"Estimated Tournament ACT Averages\")\n",
    "ax1.legend(loc='upper right')\n",
    "ax2.hist([d[10] for d in tournData], alpha=0.5, label='2019', density=True)\n",
    "ax2.hist([d[11] for d in tournData], alpha=0.5, label='2020', density=True)\n",
    "#plt.xticks(range(1, 21))\n",
    "ax2.set(xlabel=\"Income ($)\")\n",
    "ax2.set_title(\"Estimated Tournament Income Averages\")\n",
    "ax2.legend(loc='upper right')"
   ]
  },
  {
   "cell_type": "markdown",
   "metadata": {},
   "source": [
    "#### State Analysis"
   ]
  },
  {
   "cell_type": "code",
   "execution_count": 106,
   "metadata": {},
   "outputs": [],
   "source": [
    "# count entries in each state\n",
    "state_entries19 = dict([[state, 0] for state in states])\n",
    "state_entries20 = dict([[state, 0] for state in states])\n",
    "for entry in entries:\n",
    "    state = entry['State']\n",
    "    if state in states:\n",
    "        if \"19\" in entry['Tournament']:\n",
    "            state_entries19[state] += 1\n",
    "        else:\n",
    "            state_entries20[state] += 1"
   ]
  },
  {
   "cell_type": "code",
   "execution_count": 109,
   "metadata": {},
   "outputs": [],
   "source": [
    "# aggregate distance by state\n",
    "state_distance19 = dict([[state, 0] for state in states])\n",
    "state_distance20 = dict([[state, 0] for state in states])\n",
    "for entry in entries:\n",
    "    state = entry['State']\n",
    "    host = tournInfo[entry['Tournament'][:-2] + \"19\"]['State']\n",
    "    if host in abbrevOf:\n",
    "        host = abbrevOf[host]\n",
    "    if state in states:\n",
    "        if \"19\" in entry['Tournament']:\n",
    "            state_distance19[state] += distance(coordinates[state], coordinates[host])\n",
    "        else:\n",
    "            state_distance20[state] += distance(coordinates[state], coordinates[host])"
   ]
  },
  {
   "cell_type": "code",
   "execution_count": 110,
   "metadata": {},
   "outputs": [],
   "source": [
    "# convert to average\n",
    "for state in states:\n",
    "    if state_entries19[state] > 0:\n",
    "        state_distance19[state] /= state_entries19[state]\n",
    "    if state_entries20[state] > 0:\n",
    "        state_distance20[state] /= state_entries20[state]"
   ]
  },
  {
   "cell_type": "code",
   "execution_count": 111,
   "metadata": {},
   "outputs": [],
   "source": [
    "# write to result file\n",
    "with open(STATES_CSV, 'w') as outFile:\n",
    "    outWriter = csv.writer(outFile, lineterminator = '\\n')\n",
    "    outWriter.writerow([\"State\",\n",
    "                      \"Entries19\",\n",
    "                      \"Entries20\",\n",
    "                      \"Distance19\",\n",
    "                      \"Distance20\"])\n",
    "    for state in states:\n",
    "        outWriter.writerow([state,\n",
    "                           state_entries19[state],\n",
    "                           state_entries20[state],\n",
    "                           state_distance19[state],\n",
    "                           state_distance20[state]])"
   ]
  },
  {
   "cell_type": "markdown",
   "metadata": {},
   "source": [
    "#### State Visualizations"
   ]
  },
  {
   "cell_type": "code",
   "execution_count": 101,
   "metadata": {
    "scrolled": true
   },
   "outputs": [
    {
     "data": {
      "image/png": "[encoded data removed]",
      "text/plain": [
       "<Figure size 432x288 with 1 Axes>"
      ]
     },
     "metadata": {
      "needs_background": "light"
     },
     "output_type": "display_data"
    }
   ],
   "source": [
    "# entries by state visualization\n",
    "N = 4\n",
    "data19 = (13, 5, 9, 7)\n",
    "data20 = (42, 16, 21, 19)\n",
    "\n",
    "ind = np.arange(N) \n",
    "width = 0.35    \n",
    "plt.bar(ind, data19, width, label='2019')\n",
    "plt.bar(ind + width, data20, width,\n",
    "    label='2020')\n",
    "\n",
    "plt.ylabel('Entries')\n",
    "plt.title('Entries by State')\n",
    "\n",
    "plt.xticks(ind + width/2, ('Arizona', 'DC', 'New Mexico', 'Wisconsin'))\n",
    "plt.legend(loc='best')\n",
    "plt.show()"
   ]
  },
  {
   "cell_type": "code",
   "execution_count": 102,
   "metadata": {},
   "outputs": [
    {
     "data": {
      "image/png": "[encoded data removed]",
      "text/plain": [
       "<Figure size 360x216 with 1 Axes>"
      ]
     },
     "metadata": {
      "needs_background": "light"
     },
     "output_type": "display_data"
    }
   ],
   "source": [
    "# example states plot (omitted from article)\n",
    "fig = plt.figure(figsize=(5, 3))\n",
    "ax = fig.add_axes([0,0,1,1])\n",
    "labels = [\"MA\", \"CA\", \"IA\", \"TX\", \"NY\",\"AL\",  \"VA\", \"IL\"]\n",
    "values = [60.86, 50.68, 15.07, 1.81, -3.72, -35.71, -47.06, -70.91]\n",
    "ax.bar(labels, values)\n",
    "plt.title(\"Change in Participation from 2019 to 2020\")\n",
    "plt.ylabel(\"Percent Change\")\n",
    "plt.show()"
   ]
  },
  {
   "cell_type": "code",
   "execution_count": 103,
   "metadata": {},
   "outputs": [
    {
     "data": {
      "image/png": "[encoded data removed]",
      "text/plain": [
       "<Figure size 432x288 with 1 Axes>"
      ]
     },
     "metadata": {
      "needs_background": "light"
     },
     "output_type": "display_data"
    }
   ],
   "source": [
    "# distance traveled by state\n",
    "N = 5\n",
    "data19 = (378, 337, 671, 400, 173)\n",
    "data20 = (1009, 1287, 1566, 1032, 621)\n",
    "\n",
    "ind = np.arange(N) \n",
    "width = 0.35    \n",
    "plt.bar(ind, data19, width, label='2019')\n",
    "plt.bar(ind + width, data20, width,\n",
    "    label='2020')\n",
    "\n",
    "plt.ylabel('Distance in Kilometers')\n",
    "plt.title('Distance Traveled by State')\n",
    "\n",
    "plt.xticks(ind + width/2, ('TX', 'UT', 'MA', 'NJ', 'MN'))\n",
    "plt.legend(loc='best')\n",
    "plt.show()"
   ]
  },
  {
   "cell_type": "markdown",
   "metadata": {},
   "source": [
    "#### Lone Wolves"
   ]
  },
  {
   "cell_type": "code",
   "execution_count": 112,
   "metadata": {},
   "outputs": [],
   "source": [
    "# school sizes\n",
    "teammembers19 = {}\n",
    "for entry in entries19:\n",
    "    if not entry['School'] in teammembers19:\n",
    "        teammembers19[entry['School']] = set()\n",
    "    teammembers19[entry['School']].add(entry['Name'])\n",
    "teammembers20 = {}\n",
    "for entry in entries20:\n",
    "    if not entry['School'] in teammembers20:\n",
    "        teammembers20[entry['School']] = set()\n",
    "    teammembers20[entry['School']].add(entry['Name'])"
   ]
  },
  {
   "cell_type": "code",
   "execution_count": 113,
   "metadata": {},
   "outputs": [
    {
     "data": {
      "text/plain": [
       "2.9635974304068524"
      ]
     },
     "execution_count": 113,
     "metadata": {},
     "output_type": "execute_result"
    }
   ],
   "source": [
    "sum([len(t) for t in teammembers19.values()])/len(teammembers19)"
   ]
  },
  {
   "cell_type": "code",
   "execution_count": 114,
   "metadata": {},
   "outputs": [
    {
     "data": {
      "text/plain": [
       "2.7898383371824482"
      ]
     },
     "execution_count": 114,
     "metadata": {},
     "output_type": "execute_result"
    }
   ],
   "source": [
    "sum([len(t) for t in teammembers20.values()])/len(teammembers20)"
   ]
  },
  {
   "cell_type": "code",
   "execution_count": 117,
   "metadata": {},
   "outputs": [
    {
     "name": "stdout",
     "output_type": "stream",
     "text": [
      "UT19\n",
      "2.767857142857143\n",
      "UT20\n",
      "2.5641025641025643\n",
      "alta19\n",
      "2.0\n",
      "alta20\n",
      "1.912280701754386\n",
      "applevalley19\n",
      "2.380952380952381\n",
      "applevalley20\n",
      "2.3066666666666666\n",
      "blake19\n",
      "2.5714285714285716\n",
      "blake20\n",
      "2.8\n",
      "bluekey19\n",
      "2.607843137254902\n",
      "bluekey20\n",
      "1.876923076923077\n",
      "bronx19\n",
      "2.7580645161290325\n",
      "bronx20\n",
      "2.1264367816091956\n",
      "collegeprep19\n",
      "2.763157894736842\n",
      "collegeprep20\n",
      "2.2962962962962963\n",
      "cypress19\n",
      "2.5714285714285716\n",
      "cypress20\n",
      "1.7142857142857142\n",
      "dowling19\n",
      "2.3\n",
      "dowling20\n",
      "2.0\n",
      "duke19\n",
      "2.4166666666666665\n",
      "duke20\n",
      "1.9787234042553192\n",
      "glenbrooks19\n",
      "2.033333333333333\n",
      "glenbrooks20\n",
      "2.4657534246575343\n",
      "grapevine19\n",
      "2.207547169811321\n",
      "grapevine20\n",
      "1.9594594594594594\n",
      "greenhill19\n",
      "2.169811320754717\n",
      "greenhill20\n",
      "1.7719298245614035\n",
      "heritage19\n",
      "1.8974358974358974\n",
      "heritage20\n",
      "1.6818181818181819\n",
      "holycross19\n",
      "1.9473684210526316\n",
      "holycross20\n",
      "1.8888888888888888\n",
      "isidore19\n",
      "1.9230769230769231\n",
      "isidore20\n",
      "2.0\n",
      "jackhowe19\n",
      "2.638888888888889\n",
      "jackhowe20\n",
      "2.2153846153846155\n",
      "loyola19\n",
      "2.0\n",
      "loyola20\n",
      "2.263157894736842\n",
      "meadows19\n",
      "2.05\n",
      "meadows20\n",
      "2.21875\n",
      "presentation19\n",
      "2.7777777777777777\n",
      "presentation20\n",
      "2.6842105263157894\n",
      "princeton19\n",
      "3.130434782608696\n",
      "princeton20\n",
      "2.1538461538461537\n",
      "ridge19\n",
      "2.6\n",
      "ridge20\n",
      "2.5652173913043477\n",
      "seattle19\n",
      "2.533333333333333\n",
      "seattle20\n",
      "1.8636363636363635\n",
      "strake19\n",
      "1.5172413793103448\n",
      "strake20\n",
      "1.6486486486486487\n",
      "uk19\n",
      "1.9130434782608696\n",
      "uk20\n",
      "1.9615384615384615\n",
      "usc19\n",
      "2.72\n",
      "usc20\n",
      "2.0588235294117645\n",
      "valley19\n",
      "2.5833333333333335\n",
      "valley20\n",
      "2.576923076923077\n",
      "yale19\n",
      "2.8363636363636364\n",
      "yale20\n",
      "1.6226415094339623\n"
     ]
    }
   ],
   "source": [
    "# get school sizes, and new entries (omitted from article)\n",
    "schoolNew = {}\n",
    "schoolAll = {}\n",
    "loneWolves = {}\n",
    "LW19 = 0\n",
    "LW20 = 0\n",
    "sizes19 = []\n",
    "sizes20 = []\n",
    "for i in range(len(tourn_list)//2):\n",
    "    tourn19 = tourn_list[2*i]\n",
    "    tourn20 = tourn_list[2*i+1]\n",
    "    entries19 = entries_by_tourn[tourn19]\n",
    "    entries20 = entries_by_tourn[tourn20]\n",
    "    oldSchools = [entry['School'] for entry in entries19]\n",
    "    schoolSizes = {}\n",
    "    for entry in entries19:\n",
    "        school = entry['School']\n",
    "        if school in schoolSizes:\n",
    "            schoolSizes[school] += 1\n",
    "        else:\n",
    "            schoolSizes[school] = 1\n",
    "    print(tourn19)\n",
    "    print(sum(schoolSizes.values())/len(schoolSizes))\n",
    "    sizes19 += list(schoolSizes.values())\n",
    "    for school in schoolSizes:\n",
    "        if schoolSizes[school] == 1:\n",
    "            LW19 += 1\n",
    "    \n",
    "    schoolSizes = {}\n",
    "    for entry in entries20:\n",
    "        school = entry['School']\n",
    "        \n",
    "        if school in schoolSizes:\n",
    "            schoolSizes[school] += 1\n",
    "        else:\n",
    "            schoolSizes[school] = 1\n",
    "        \n",
    "        if school in schoolAll:\n",
    "            schoolAll[school] += 1\n",
    "        else:\n",
    "            schoolAll[school] = 1\n",
    "        \n",
    "        if school not in oldSchools:\n",
    "            if school in schoolNew:\n",
    "                schoolNew[school] += 1\n",
    "            else:\n",
    "                schoolNew[school] = 1\n",
    "        \n",
    "    print(tourn20)\n",
    "    print(sum(schoolSizes.values())/len(schoolSizes))\n",
    "    for school in schoolSizes:\n",
    "        if schoolSizes[school] == 1:\n",
    "            LW20 += 1\n",
    "    sizes20 += list(schoolSizes.values())"
   ]
  },
  {
   "cell_type": "code",
   "execution_count": 118,
   "metadata": {},
   "outputs": [
    {
     "data": {
      "text/plain": [
       "<matplotlib.legend.Legend at 0x1e50b66d6c8>"
      ]
     },
     "execution_count": 118,
     "metadata": {},
     "output_type": "execute_result"
    },
    {
     "data": {
      "image/png": "[encoded data removed]",
      "text/plain": [
       "<Figure size 432x288 with 1 Axes>"
      ]
     },
     "metadata": {
      "needs_background": "light"
     },
     "output_type": "display_data"
    }
   ],
   "source": [
    "# plot squad sizes\n",
    "plt.hist(sizes19, bins=[x-0.5 for x in range(1, 21)], alpha=0.5, label='2019', density=True)\n",
    "plt.hist(sizes20, bins=[x-0.5 for x in range(1, 21)], alpha=0.5, label='2020', density=True)\n",
    "plt.xticks(range(1, 21))\n",
    "plt.xlabel(\"Team Size\")\n",
    "plt.ylabel(\"Density\")\n",
    "plt.title(\"Frequency of Team Size\")\n",
    "plt.legend(loc='upper right')"
   ]
  },
  {
   "cell_type": "code",
   "execution_count": 120,
   "metadata": {},
   "outputs": [
    {
     "data": {
      "text/plain": [
       "0.19892266256252406"
      ]
     },
     "execution_count": 120,
     "metadata": {},
     "output_type": "execute_result"
    }
   ],
   "source": [
    "# percent lone wolves in 2019\n",
    "LW19/2599"
   ]
  },
  {
   "cell_type": "code",
   "execution_count": 121,
   "metadata": {},
   "outputs": [
    {
     "data": {
      "text/plain": [
       "0.25311067452521285"
      ]
     },
     "execution_count": 121,
     "metadata": {},
     "output_type": "execute_result"
    }
   ],
   "source": [
    "# percent lone wolves 2020\n",
    "LW20/3054"
   ]
  }
 ],
 "metadata": {
  "kernelspec": {
   "display_name": "Python 3",
   "language": "python",
   "name": "python3"
  },
  "language_info": {
   "codemirror_mode": {
    "name": "ipython",
    "version": 3
   },
   "file_extension": ".py",
   "mimetype": "text/x-python",
   "name": "python",
   "nbconvert_exporter": "python",
   "pygments_lexer": "ipython3",
   "version": "3.7.4"
  }
 },
 "nbformat": 4,
 "nbformat_minor": 2
}
